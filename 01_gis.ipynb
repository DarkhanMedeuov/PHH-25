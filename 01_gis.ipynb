{
 "cells": [
  {
   "cell_type": "markdown",
   "id": "88bbe2ba",
   "metadata": {},
   "source": [
    "# **Chapter 2: GIS**"
   ]
  },
  {
   "cell_type": "markdown",
   "id": "5332a8ae",
   "metadata": {},
   "source": [
    "## **Part 1: Installing the environment**"
   ]
  },
  {
   "cell_type": "code",
   "execution_count": 1,
   "id": "e3465092",
   "metadata": {},
   "outputs": [],
   "source": [
    "import geopandas as gpd\n",
    "import pandas as pd\n",
    "import plotly.express as px\n",
    "import matplotlib.pyplot as plt\n",
    "import numpy as np\n",
    "from shapely import wkt\n",
    "from shapely.geometry import MultiPolygon, Polygon\n",
    "import plotly.graph_objects as go\n",
    "from plotly.subplots import make_subplots\n",
    "from IPython.display import display\n",
    "import ipywidgets as widgets\n",
    "import sys\n",
    "import os\n",
    "from scripts.plot_map import plot_interactive_map"
   ]
  },
  {
   "cell_type": "markdown",
   "id": "6000cb83",
   "metadata": {},
   "source": [
    "Read the dataset"
   ]
  },
  {
   "cell_type": "code",
   "execution_count": 2,
   "id": "f0d0d732",
   "metadata": {},
   "outputs": [],
   "source": [
    "df = pd.read_csv('data/survey_random.csv') #Classified"
   ]
  },
  {
   "cell_type": "markdown",
   "id": "0b4ac9dc",
   "metadata": {},
   "source": [
    "Download the geographical data"
   ]
  },
  {
   "cell_type": "code",
   "execution_count": 3,
   "id": "b93d9f37",
   "metadata": {},
   "outputs": [],
   "source": [
    "# ! wget https://media.githubusercontent.com/media/wmgeolab/geoBoundaries/9469f09592ced973a3448cf66b6100b741b64c0d/releaseData/gbOpen/KAZ/ADM1/geoBoundaries-KAZ-ADM1-all.zip"
   ]
  },
  {
   "cell_type": "code",
   "execution_count": 4,
   "id": "0f5cbaf0",
   "metadata": {},
   "outputs": [],
   "source": [
    "# ! unzip geoBoundaries-KAZ-ADM1-all.zip -d ./geoBoundaries-KAZ-ADM1-all && rm -rf geoBoundaries-KAZ-ADM1-all.zip"
   ]
  },
  {
   "cell_type": "markdown",
   "id": "58feba08",
   "metadata": {},
   "source": [
    "Read geographical data"
   ]
  },
  {
   "cell_type": "code",
   "execution_count": 5,
   "id": "cf4b1b97",
   "metadata": {},
   "outputs": [],
   "source": [
    "geojson_path = \"geoBoundaries-KAZ-ADM1-all/geoBoundaries-KAZ-ADM1_simplified.geojson\"\n",
    "gdf = gpd.read_file(geojson_path)"
   ]
  },
  {
   "cell_type": "code",
   "execution_count": 6,
   "id": "addaea7c",
   "metadata": {},
   "outputs": [],
   "source": [
    "sh_name = \"Shymkent\"\n",
    "sh_iso  = \"KZ-SHY\"\n",
    "sh_id   = \"9891525B68436750823948\"\n",
    "sh_grp  = \"KAZ\"\n",
    "sh_typ  = \"ADM1\"\n",
    "sh_wkt  = \"\"\"POLYGON ((69.42977905273443 42.29850387573242, 69.440658569336 42.256446838378906,\n",
    "69.5219955444336 42.27233505249035, 69.53115844726562 42.296615600585994, 69.57532501220714 42.28984832763672,\n",
    "69.60591888427734 42.26734542846691, 69.64803314208996 42.285514831543026, 69.72393798828136 42.264495849609375,\n",
    "69.71796417236334 42.33912658691412, 69.67385864257812 42.345897674560604, 69.67630004882812 42.362247467041016,\n",
    "69.7154312133789 42.35989379882818, 69.66631317138683 42.408203125000114, 69.71104431152344 42.405490875244084,\n",
    "69.69738006591803 42.42692184448242, 69.64393615722662 42.44665908813488, 69.61659240722656 42.41533660888672,\n",
    "69.62030792236334 42.43984985351568, 69.58672332763678 42.44188690185547, 69.57182312011719 42.41804504394531,\n",
    "69.52764129638683 42.42483901977545, 69.50846862792969 42.37234115600586, 69.46366119384766 42.37501907348633,\n",
    "69.42977905273443 42.29850387573242))\"\"\"\n",
    "\n",
    "geom = wkt.loads(sh_wkt)\n",
    "if gdf.geom_type.unique().tolist() == ['MultiPolygon'] and isinstance(geom, Polygon):\n",
    "    geom = MultiPolygon([geom])\n",
    "\n",
    "row = {col: None for col in gdf.columns}\n",
    "for k, v in {\n",
    "    \"shapeName\": sh_name,\n",
    "    \"shapeISO\":  sh_iso,\n",
    "    \"shapeGroup\": sh_grp,\n",
    "    \"shapeType\":  sh_typ,\n",
    "    \"shapeID\":    sh_id,\n",
    "    \"geometry\":   geom\n",
    "}.items():\n",
    "    if k in row:\n",
    "        row[k] = v\n",
    "\n",
    "new_gdf = gpd.GeoDataFrame([row], crs=gdf.crs)\n",
    "\n",
    "gdf = pd.concat([gdf, new_gdf], ignore_index=True)"
   ]
  },
  {
   "cell_type": "markdown",
   "id": "68e641ca",
   "metadata": {},
   "source": [
    "Create the renaming map dictionary"
   ]
  },
  {
   "cell_type": "code",
   "execution_count": 7,
   "id": "90aa9df3",
   "metadata": {},
   "outputs": [],
   "source": [
    "name_map = {\n",
    "    \"г.Нур-Султан\": \"Astana\",\n",
    "    \"г.Шымкент\": \"Shymkent\",\n",
    "    \"г.Алматы\": \"Almaty\",\n",
    "    \"Алматинская\": \"Almaty Region\",\n",
    "    \"Жамбылская\": \"Jambyl Region\",\n",
    "    \"Западно-Казахстанская\": \"West Kazakhstan Region\",\n",
    "    \"Туркестанская\": \"Turkistan Region\",\n",
    "    \"Южно-Казахстанская\": \"South Kazakhstan Region\",\n",
    "    \"Северо-Казахстанская\": \"North Kazakhstan Region\",\n",
    "    \"Костанайская\": \"Kostanay Region\",\n",
    "    \"Мангистауская\": \"Mangystau Region\",\n",
    "    \"Актюбинская\": \"Aktobe Region\",\n",
    "    \"Акмолинская\": \"Akmola Region\",\n",
    "    \"Атырауская\": \"Atyrau Region\",\n",
    "    \"Восточно-Казахстанская\": \"East Kazakhstan Region\",\n",
    "    \"Павлодарская\": \"Pavlodar Region\",\n",
    "    \"Кызылординская\": \"Kyzylorda Region\",\n",
    "    \"Карагандинская\": \"Karaganda Region\"\n",
    "}"
   ]
  },
  {
   "cell_type": "code",
   "execution_count": 8,
   "id": "c8990041",
   "metadata": {},
   "outputs": [],
   "source": [
    "le_long = pd.read_csv('data/LE_2017_2021.csv').melt(\n",
    "    id_vars=['Region'],\n",
    "    value_vars=['2017','2018','2019','2020','2021'],\n",
    "    var_name='year',\n",
    "    value_name='life_expectancy'\n",
    ")\n",
    "\n",
    "le_long = le_long.rename(columns={'Region': 'region_en'})\n",
    "le_long['year'] = le_long['year'].astype(int)"
   ]
  },
  {
   "cell_type": "markdown",
   "id": "81415612",
   "metadata": {},
   "source": [
    "## **Part 2: Ecology map**"
   ]
  },
  {
   "cell_type": "markdown",
   "id": "4b82b166",
   "metadata": {},
   "source": [
    "Map the eco survey"
   ]
  },
  {
   "cell_type": "code",
   "execution_count": 9,
   "id": "084edb6e",
   "metadata": {},
   "outputs": [],
   "source": [
    "eco_mapping = {\n",
    "    'Плохая': 0,\n",
    "    'Удовлетворительная': 1,\n",
    "    'Хорошая': 2,\n",
    "}\n",
    "df['eco_score'] = df[\n",
    "    'q8. Оцените, пожалуйста, экологическую ситуацию в Вашем населенном пункте'\n",
    "    ].map(eco_mapping)"
   ]
  },
  {
   "cell_type": "code",
   "execution_count": 10,
   "id": "5dbb224d",
   "metadata": {},
   "outputs": [],
   "source": [
    "df_eco = df[['eco_score', 'Область']]\n",
    "df_eco = df_eco.groupby('Область').mean().reset_index().sort_values(by='eco_score')\n",
    "df_eco[\"region_en\"] = df_eco[\"Область\"].map(name_map)"
   ]
  },
  {
   "cell_type": "code",
   "execution_count": 11,
   "id": "959d6595",
   "metadata": {},
   "outputs": [],
   "source": [
    "merged_eco = gdf.merge(df_eco, left_on=\"shapeName\", right_on=\"region_en\", how=\"left\")"
   ]
  },
  {
   "cell_type": "code",
   "execution_count": 12,
   "id": "28db4be3",
   "metadata": {},
   "outputs": [],
   "source": [
    "df['date'] = pd.to_datetime(dict(year=df['Год'], month=df['Месяц'], day=1))\n",
    "\n",
    "ts = (df\n",
    "      .groupby(['Область','date'], as_index=False)['eco_score']\n",
    "      .mean()\n",
    "      .sort_values(['Область','date']))\n",
    "\n",
    "ts['region_en'] = ts['Область'].map(name_map)\n",
    "\n",
    "ts_eco = {k: v[['date','eco_score']].reset_index(drop=True)\n",
    "           for k, v in ts.groupby('region_en', dropna=False)}"
   ]
  },
  {
   "cell_type": "markdown",
   "id": "a9231fa5",
   "metadata": {},
   "source": [
    "Plot the map!"
   ]
  },
  {
   "cell_type": "code",
   "execution_count": 13,
   "id": "2789c9b3",
   "metadata": {},
   "outputs": [
    {
     "name": "stdout",
     "output_type": "stream",
     "text": [
      "Exception reporting mode: Minimal\n"
     ]
    },
    {
     "data": {
      "application/vnd.jupyter.widget-view+json": {
       "model_id": "4adaab65d6ef4265aa3b0355d7bba5ec",
       "version_major": 2,
       "version_minor": 0
      },
      "text/plain": [
       "HBox(children=(FigureWidget({\n",
       "    'data': [{'coloraxis': 'coloraxis',\n",
       "              'customdata': array([['Pav…"
      ]
     },
     "metadata": {},
     "output_type": "display_data"
    }
   ],
   "source": [
    "%xmode Minimal\n",
    "plot_interactive_map(merged_eco,\n",
    "                     ts_eco,\n",
    "                     le_long,\n",
    "                     \"eco_score\",\n",
    "                     \"Kazakhstan: Ecology Score by Region (2017-2021)\",\n",
    "                     y_range=[0.0, 2.0])"
   ]
  },
  {
   "cell_type": "markdown",
   "id": "2bf442bf",
   "metadata": {},
   "source": [
    "## **Part 3: Health map**"
   ]
  },
  {
   "cell_type": "markdown",
   "id": "ebea7e34",
   "metadata": {},
   "source": [
    "Map the health survey"
   ]
  },
  {
   "cell_type": "code",
   "execution_count": 14,
   "id": "3a78d064",
   "metadata": {},
   "outputs": [],
   "source": [
    "health_mapping = {\n",
    "    'Ужасное': 0,\n",
    "    'Плохое': 1,\n",
    "    'Удовлетворительное': 2,\n",
    "    'Хорошее': 3,\n",
    "    'Прекрасное': 4\n",
    "}\n",
    "df['health_score'] = df[\n",
    "    'q10a. В целом как бы Вы оценили свое здоровье в настоящее время?'\n",
    "    ].map(health_mapping)"
   ]
  },
  {
   "cell_type": "code",
   "execution_count": 15,
   "id": "caf8578f",
   "metadata": {},
   "outputs": [],
   "source": [
    "df_health = df[['health_score', 'Область']]\n",
    "df_health = df_health.groupby('Область').mean().reset_index().sort_values(by='health_score')\n",
    "df_health[\"region_en\"] = df_health[\"Область\"].map(name_map)"
   ]
  },
  {
   "cell_type": "code",
   "execution_count": 16,
   "id": "0ad877fe",
   "metadata": {},
   "outputs": [],
   "source": [
    "merged_health = gdf.merge(df_health, left_on=\"shapeName\", right_on=\"region_en\", how=\"left\")"
   ]
  },
  {
   "cell_type": "code",
   "execution_count": 17,
   "id": "1a61a1e1",
   "metadata": {},
   "outputs": [],
   "source": [
    "df['date'] = pd.to_datetime(dict(year=df['Год'], month=df['Месяц'], day=1))\n",
    "\n",
    "ts = (df\n",
    "      .groupby(['Область','date'], as_index=False)['health_score']\n",
    "      .mean()\n",
    "      .sort_values(['Область','date']))\n",
    "\n",
    "ts['region_en'] = ts['Область'].map(name_map)\n",
    "\n",
    "ts_health = {k: v[['date','health_score']].reset_index(drop=True)\n",
    "           for k, v in ts.groupby('region_en', dropna=False)}"
   ]
  },
  {
   "cell_type": "code",
   "execution_count": 18,
   "id": "090d9065",
   "metadata": {},
   "outputs": [
    {
     "name": "stdout",
     "output_type": "stream",
     "text": [
      "Exception reporting mode: Minimal\n"
     ]
    },
    {
     "data": {
      "application/vnd.jupyter.widget-view+json": {
       "model_id": "82acf44f73144cb19228d1c596d4add4",
       "version_major": 2,
       "version_minor": 0
      },
      "text/plain": [
       "HBox(children=(FigureWidget({\n",
       "    'data': [{'coloraxis': 'coloraxis',\n",
       "              'customdata': array([['Pav…"
      ]
     },
     "metadata": {},
     "output_type": "display_data"
    }
   ],
   "source": [
    "%xmode Minimal\n",
    "plot_interactive_map(merged_health,\n",
    "                     ts_health,\n",
    "                     le_long,\n",
    "                     \"health_score\",\n",
    "                     \"Kazakhstan: Health Score by Region (2017-2021)\",\n",
    "                     y_range=[0.0, 4.0])"
   ]
  },
  {
   "cell_type": "markdown",
   "id": "d059aea5",
   "metadata": {},
   "source": [
    "## **Part 4. Government Medicine**"
   ]
  },
  {
   "cell_type": "code",
   "execution_count": 19,
   "id": "a71077a9",
   "metadata": {},
   "outputs": [],
   "source": [
    "gov_med_mapping = {\n",
    "    'Плохое': 1,\n",
    "    'Удовлетворительное': 2,\n",
    "    'Хорошее': 3\n",
    "    }\n",
    "df['gov_med_score'] = df[\n",
    "    'q9.1. Оцените, пожалуйста, качество медицинских услуг в государственных медицинских учреждениях (поликлиники, больницы) в Казахстане'\n",
    "    ].map(gov_med_mapping)"
   ]
  },
  {
   "cell_type": "code",
   "execution_count": 20,
   "id": "bd4f132a",
   "metadata": {},
   "outputs": [],
   "source": [
    "df_gov_med = df[['gov_med_score', 'Область']]\n",
    "df_gov_med = df_gov_med.groupby('Область').mean().reset_index().sort_values(by='gov_med_score')\n",
    "df_gov_med[\"region_en\"] = df_gov_med[\"Область\"].map(name_map)"
   ]
  },
  {
   "cell_type": "code",
   "execution_count": 21,
   "id": "39c138b6",
   "metadata": {},
   "outputs": [],
   "source": [
    "merged_gov_med = gdf.merge(df_gov_med, left_on=\"shapeName\", right_on=\"region_en\", how=\"left\")"
   ]
  },
  {
   "cell_type": "code",
   "execution_count": 22,
   "id": "a30c8aa0",
   "metadata": {},
   "outputs": [],
   "source": [
    "df['date'] = pd.to_datetime(dict(year=df['Год'], month=df['Месяц'], day=1))\n",
    "\n",
    "ts = (df\n",
    "      .groupby(['Область','date'], as_index=False)['gov_med_score']\n",
    "      .mean()\n",
    "      .sort_values(['Область','date']))\n",
    "\n",
    "ts['region_en'] = ts['Область'].map(name_map)\n",
    "\n",
    "ts_gov_med = {k: v[['date','gov_med_score']].reset_index(drop=True)\n",
    "           for k, v in ts.groupby('region_en', dropna=False)}"
   ]
  },
  {
   "cell_type": "code",
   "execution_count": 23,
   "id": "2df6b0a1",
   "metadata": {},
   "outputs": [
    {
     "name": "stdout",
     "output_type": "stream",
     "text": [
      "Exception reporting mode: Minimal\n"
     ]
    },
    {
     "data": {
      "application/vnd.jupyter.widget-view+json": {
       "model_id": "e0bdce0f6347486d9e00d7d1a74dc2b4",
       "version_major": 2,
       "version_minor": 0
      },
      "text/plain": [
       "HBox(children=(FigureWidget({\n",
       "    'data': [{'coloraxis': 'coloraxis',\n",
       "              'customdata': array([['Pav…"
      ]
     },
     "metadata": {},
     "output_type": "display_data"
    }
   ],
   "source": [
    "%xmode Minimal\n",
    "plot_interactive_map(merged_gov_med,\n",
    "                     ts_gov_med,\n",
    "                     le_long,\n",
    "                     \"gov_med_score\",\n",
    "                     \"Kazakhstan: Government Medicine Score by Region (2017-2021)\",\n",
    "                     y_range=[1.0, 3.0])"
   ]
  },
  {
   "cell_type": "markdown",
   "id": "f158755c",
   "metadata": {},
   "source": [
    "## **Part 5. Private Medicine**"
   ]
  },
  {
   "cell_type": "code",
   "execution_count": 24,
   "id": "11f78be0",
   "metadata": {},
   "outputs": [],
   "source": [
    "priv_med_mapping = {\n",
    "    'Плохое': 1,\n",
    "    'Удовлетворительное': 2,\n",
    "    'Хорошее': 3\n",
    "    }\n",
    "df['priv_med_score'] = df[\n",
    "    'q9.2. Оцените, пожалуйста, качество медицинских услуг в  частных клиниках в Казахстане'\n",
    "    ].map(priv_med_mapping)"
   ]
  },
  {
   "cell_type": "code",
   "execution_count": 25,
   "id": "c888f413",
   "metadata": {},
   "outputs": [],
   "source": [
    "df_priv_med = df[['priv_med_score', 'Область']]\n",
    "df_priv_med = df_priv_med.groupby('Область').mean().reset_index().sort_values(by='priv_med_score')\n",
    "df_priv_med[\"region_en\"] = df_priv_med[\"Область\"].map(name_map)"
   ]
  },
  {
   "cell_type": "code",
   "execution_count": 26,
   "id": "28fc8fb3",
   "metadata": {},
   "outputs": [],
   "source": [
    "merged_priv_med = gdf.merge(df_priv_med, left_on=\"shapeName\", right_on=\"region_en\", how=\"left\")"
   ]
  },
  {
   "cell_type": "code",
   "execution_count": 27,
   "id": "ab809878",
   "metadata": {},
   "outputs": [],
   "source": [
    "df['date'] = pd.to_datetime(dict(year=df['Год'], month=df['Месяц'], day=1))\n",
    "\n",
    "ts = (df\n",
    "      .groupby(['Область','date'], as_index=False)['priv_med_score']\n",
    "      .mean()\n",
    "      .sort_values(['Область','date']))\n",
    "\n",
    "ts['region_en'] = ts['Область'].map(name_map)\n",
    "\n",
    "ts_priv_med = {k: v[['date','priv_med_score']].reset_index(drop=True)\n",
    "           for k, v in ts.groupby('region_en', dropna=False)}"
   ]
  },
  {
   "cell_type": "code",
   "execution_count": 28,
   "id": "03bbf0d7",
   "metadata": {},
   "outputs": [
    {
     "name": "stdout",
     "output_type": "stream",
     "text": [
      "Exception reporting mode: Minimal\n"
     ]
    },
    {
     "data": {
      "application/vnd.jupyter.widget-view+json": {
       "model_id": "0ff8ae8e4dc7412eb4036ef63b3da345",
       "version_major": 2,
       "version_minor": 0
      },
      "text/plain": [
       "HBox(children=(FigureWidget({\n",
       "    'data': [{'coloraxis': 'coloraxis',\n",
       "              'customdata': array([['Pav…"
      ]
     },
     "metadata": {},
     "output_type": "display_data"
    }
   ],
   "source": [
    "%xmode Minimal\n",
    "plot_interactive_map(merged_priv_med,\n",
    "                     ts_priv_med,\n",
    "                     le_long,\n",
    "                     \"priv_med_score\",\n",
    "                     \"Kazakhstan: Private Medicine Score by Region (2017-2021)\",\n",
    "                     y_range=[1.0, 3.0])"
   ]
  },
  {
   "cell_type": "code",
   "execution_count": 29,
   "id": "48caab34",
   "metadata": {},
   "outputs": [
    {
     "name": "stdout",
     "output_type": "stream",
     "text": [
      "Saved: /Users/ilyapopov/Desktop/PHH-25/docs/interactive_maps_all.html\n"
     ]
    }
   ],
   "source": [
    "! python scripts/export2html.py"
   ]
  }
 ],
 "metadata": {
  "kernelspec": {
   "display_name": "geoenv",
   "language": "python",
   "name": "python3"
  },
  "language_info": {
   "codemirror_mode": {
    "name": "ipython",
    "version": 3
   },
   "file_extension": ".py",
   "mimetype": "text/x-python",
   "name": "python",
   "nbconvert_exporter": "python",
   "pygments_lexer": "ipython3",
   "version": "3.11.13"
  }
 },
 "nbformat": 4,
 "nbformat_minor": 5
}
